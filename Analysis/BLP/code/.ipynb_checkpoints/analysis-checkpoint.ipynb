{
 "cells": [
  {
   "cell_type": "code",
   "execution_count": 1,
   "metadata": {},
   "outputs": [],
   "source": [
    "import pyblp\n",
    "import numpy as np\n",
    "import pandas as pd\n",
    "from matplotlib import pyplot as plt\n",
    "pyblp.options.verbose = False "
   ]
  },
  {
   "cell_type": "code",
   "execution_count": 2,
   "metadata": {},
   "outputs": [],
   "source": [
    "# Globals\n",
    "\n",
    "SIGMA0 = np.eye(2)\n",
    "SIGMA_BOUNDS = ([[-1e2, -1e2], [-1e2, -1e2]], [[1e2, 1e2], [1e2, 1e2]])\n",
    "BETA_BOUNDS = ([1e-3, -1e2, 1e-3, 1e-3], [1e2, -1e-3, 1e2, 1e2])\n",
    "INTEGRATION = pyblp.Integration('product', size = 17)\n",
    "OPTI = pyblp.Optimization('l-bfgs-b', {'gtol': 1e-6})"
   ]
  },
  {
   "cell_type": "markdown",
   "metadata": {},
   "source": [
    "### Loading the simulated data"
   ]
  },
  {
   "cell_type": "code",
   "execution_count": 4,
   "metadata": {},
   "outputs": [],
   "source": [
    "import csv\n",
    "data = list(csv.reader(open('../temp/zeta_1000.csv')))\n",
    "column_name = ['product_ids', 'market_ids', 'quality', 'satellite', 'wired', 'prices', 'obs_cost','unobs_demand','unobs_cost','shares', 'marginal_cost','price_elasticity','D1','D2','D3','D4']\n",
    "product_data = pd.DataFrame(data, columns = column_name)\n",
    "product_data = product_data.astype('float')\n",
    "product_data['firm_ids'] = product_data['product_ids']"
   ]
  },
  {
   "cell_type": "markdown",
   "metadata": {},
   "source": [
    "## 5 Estimate the Correctly Specified Model\n",
    "### 5 (8) Report a table with the estimates of the demand parameters and standard error\n",
    "#### (a) When estimating demand alone"
   ]
  },
  {
   "cell_type": "code",
   "execution_count": 5,
   "metadata": {},
   "outputs": [
    {
     "name": "stdout",
     "output_type": "stream",
     "text": [
      "   firm_ids  market_ids   quality  satellite  wired\n",
      "0       1.0         1.0  0.649014        1.0    0.0\n",
      "1       2.0         1.0  1.181166        1.0    0.0\n",
      "2       3.0         1.0  0.758453        0.0    1.0\n",
      "3       4.0         1.0  1.109613        0.0    1.0\n",
      "4       1.0         2.0  0.845551        1.0    0.0\n",
      "5       2.0         2.0  0.572665        1.0    0.0\n",
      "6       3.0         2.0  0.558681        0.0    1.0\n",
      "7       4.0         2.0  0.178380        0.0    1.0\n",
      "[[ 0.          0.          0.50731475 11.68804445]\n",
      " [ 0.          0.          0.46699194  3.39068706]\n",
      " [ 0.          0.          0.31397624  5.17627065]\n",
      " [ 0.          0.          0.34058469  3.70458181]\n",
      " [ 0.          0.          0.6018788   0.94781399]\n",
      " [ 0.          0.          0.23012291  0.31987471]\n",
      " [ 0.          0.          0.22711872  0.83506063]\n",
      " [ 0.          0.          0.74520604  0.34287253]\n",
      " [ 0.          0.          0.94499501  0.84312035]\n",
      " [ 0.          0.          0.26797803  1.10467673]]\n"
     ]
    }
   ],
   "source": [
    "# DEMAND INSTRUMENTS\n",
    "short_df = product_data[['firm_ids', 'market_ids', 'quality', 'satellite', 'wired']].head(8)\n",
    "print(short_df)\n",
    "n_ZD = 2\n",
    "demand_instruments = pyblp.build_differentiation_instruments(pyblp.Formulation('0 + quality + obs_cost'), product_data, version = 'quadratic')\n",
    "print(demand_instruments[0:10,:])"
   ]
  },
  {
   "cell_type": "code",
   "execution_count": 6,
   "metadata": {},
   "outputs": [],
   "source": [
    "# own characteristics will be collinear with X1 because each firm only has one \n",
    "# product. hence we drop half of these \"instruments\"\n",
    "assert(n_ZD * 2 == len(demand_instruments[0]))\n",
    "for j in range(0, n_ZD):\n",
    "    assert(sum(demand_instruments[:,j]) == 0)\n",
    "demand_instruments = demand_instruments[:, n_ZD:(2*n_ZD)]\n",
    "for j in range(0, n_ZD):\n",
    "    product_data['demand_instruments' + str(j)] = demand_instruments[:,j]"
   ]
  },
  {
   "cell_type": "code",
   "execution_count": 7,
   "metadata": {},
   "outputs": [],
   "source": [
    "# SUPPLY INSTRUMENTS\n",
    "n_ZS = 1\n",
    "supply_instruments = pyblp.build_differentiation_instruments(pyblp.Formulation('0 + obs_cost'), product_data, version = 'quadratic')\n",
    "assert( n_ZS * 2 == len(supply_instruments[0]))\n",
    "for j in range(0, n_ZS):\n",
    "    assert(sum(supply_instruments[:,j]) == 0)\n",
    "supply_instruments = supply_instruments[:, n_ZS:(2*n_ZS)]\n",
    "for j in range(0, n_ZS):\n",
    "    product_data['supply_instruments' + str(j)] = supply_instruments[:,j]"
   ]
  },
  {
   "cell_type": "code",
   "execution_count": 8,
   "metadata": {},
   "outputs": [],
   "source": [
    "# product_formulation\n",
    "X1_formulation = pyblp.Formulation('0 + quality + prices + satellite + wired')\n",
    "X2_formulation = pyblp.Formulation('0 + satellite + wired')\n",
    "product_formulations = (X1_formulation, X2_formulation)"
   ]
  },
  {
   "cell_type": "code",
   "execution_count": 9,
   "metadata": {},
   "outputs": [
    {
     "name": "stdout",
     "output_type": "stream",
     "text": [
      "Problem Results Summary:\n",
      "==================================================================================================================\n",
      "GMM     Objective      Projected    Reduced Hessian  Reduced Hessian  Clipped  Weighting Matrix  Covariance Matrix\n",
      "Step      Value      Gradient Norm  Min Eigenvalue   Max Eigenvalue   Shares   Condition Number  Condition Number \n",
      "----  -------------  -------------  ---------------  ---------------  -------  ----------------  -----------------\n",
      " 2    +8.010120E-15  +2.817377E-08   +1.685248E-05    +8.834239E-02      0      +1.777831E+02      +2.499311E+16  \n",
      "==================================================================================================================\n",
      "\n",
      "Cumulative Statistics:\n",
      "===========================================================================\n",
      "Computation  Optimizer  Optimization   Objective   Fixed Point  Contraction\n",
      "   Time      Converged   Iterations   Evaluations  Iterations   Evaluations\n",
      "-----------  ---------  ------------  -----------  -----------  -----------\n",
      " 00:01:07       Yes          6            14          58819       181546   \n",
      "===========================================================================\n",
      "\n",
      "Nonlinear Coefficient Estimates (Robust SEs in Parentheses):\n",
      "===========================================\n",
      " Sigma:       satellite          wired     \n",
      "---------  ---------------  ---------------\n",
      "satellite   +4.959756E+00                  \n",
      "           (+3.291027E+00)                 \n",
      "                                           \n",
      "  wired     +0.000000E+00    +5.311310E+00 \n",
      "                            (+3.462572E+00)\n",
      "===========================================\n",
      "\n",
      "Beta Estimates (Robust SEs in Parentheses):\n",
      "==================================================================\n",
      "    quality          prices          satellite          wired     \n",
      "---------------  ---------------  ---------------  ---------------\n",
      " +1.802259E+00    -2.998638E+00    +5.943803E+00    +5.624282E+00 \n",
      "(+7.902583E-01)  (+1.078232E+00)  (+2.252441E+00)  (+2.062496E+00)\n",
      "==================================================================\n",
      "Sigma squared: \n",
      "[[24.59917547  0.        ]\n",
      " [ 0.         28.21000985]]\n",
      "Standard errors: \n",
      "[[32.6453809   0.        ]\n",
      " [ 0.         36.78158498]]\n"
     ]
    }
   ],
   "source": [
    "# integration\n",
    "problem = pyblp.Problem(product_formulations, product_data, integration=INTEGRATION)\n",
    "blp_results = problem.solve(sigma = SIGMA0, optimization=OPTI, sigma_bounds = SIGMA_BOUNDS, beta_bounds = BETA_BOUNDS)\n",
    "print(blp_results)\n",
    "print(\"Sigma squared: \")\n",
    "print(blp_results.sigma_squared)\n",
    "print(\"Standard errors: \")\n",
    "print(blp_results.sigma_squared_se)"
   ]
  },
  {
   "cell_type": "code",
   "execution_count": 10,
   "metadata": {},
   "outputs": [
    {
     "name": "stdout",
     "output_type": "stream",
     "text": [
      "Problem Results Summary:\n",
      "==================================================================================================================\n",
      "GMM     Objective      Projected    Reduced Hessian  Reduced Hessian  Clipped  Weighting Matrix  Covariance Matrix\n",
      "Step      Value      Gradient Norm  Min Eigenvalue   Max Eigenvalue   Shares   Condition Number  Condition Number \n",
      "----  -------------  -------------  ---------------  ---------------  -------  ----------------  -----------------\n",
      " 1    +5.298766E+02  +1.717582E+02   +4.156004E+01    +8.791798E+01      0      +3.440532E+04      +5.792872E+03  \n",
      "==================================================================================================================\n",
      "\n",
      "Cumulative Statistics:\n",
      "===========================================================================\n",
      "Computation  Optimizer  Optimization   Objective   Fixed Point  Contraction\n",
      "   Time      Converged   Iterations   Evaluations  Iterations   Evaluations\n",
      "-----------  ---------  ------------  -----------  -----------  -----------\n",
      " 00:00:34       Yes          1             4          32915        99962   \n",
      "===========================================================================\n",
      "\n",
      "Nonlinear Coefficient Estimates (Robust SEs in Parentheses):\n",
      "===========================================\n",
      " Sigma:       satellite          wired     \n",
      "---------  ---------------  ---------------\n",
      "satellite   +4.959756E+00                  \n",
      "           (+4.263588E-01)                 \n",
      "                                           \n",
      "  wired     +0.000000E+00    +5.311310E+00 \n",
      "                            (+4.813438E-01)\n",
      "===========================================\n",
      "\n",
      "Beta Estimates (Robust SEs in Parentheses):\n",
      "==================================================================\n",
      "    quality          prices          satellite          wired     \n",
      "---------------  ---------------  ---------------  ---------------\n",
      " +1.797261E+00    -2.943119E+00    +5.795762E+00    +5.476730E+00 \n",
      "(+1.134461E-01)  (+2.824420E-01)  (+7.260390E-01)  (+7.430908E-01)\n",
      "==================================================================\n",
      "Sigma squared: \n",
      "[[24.59917547  0.        ]\n",
      " [ 0.         28.21000985]]\n",
      "Standard errors: \n",
      "[[4.22927095 0.        ]\n",
      " [0.         5.11313175]]\n"
     ]
    }
   ],
   "source": [
    "# update the results with optimal instruments\n",
    "instrument_results = blp_results.compute_optimal_instruments(method='approximate')\n",
    "updated_problem = instrument_results.to_problem()\n",
    "optim_results = updated_problem.solve(\n",
    "    blp_results.sigma,\n",
    "    optimization=OPTI,\n",
    "    method='1s',\n",
    "    sigma_bounds = SIGMA_BOUNDS,\n",
    "    beta_bounds = BETA_BOUNDS \n",
    ")\n",
    "print(optim_results)\n",
    "print(\"Sigma squared: \")\n",
    "print(optim_results.sigma_squared)\n",
    "print(\"Standard errors: \")\n",
    "print(optim_results.sigma_squared_se)"
   ]
  },
  {
   "cell_type": "markdown",
   "metadata": {},
   "source": [
    "#### (b) When estimating jointly with supply"
   ]
  },
  {
   "cell_type": "code",
   "execution_count": 11,
   "metadata": {},
   "outputs": [],
   "source": [
    "# product_formulation\n",
    "X3_formulation = pyblp.Formulation('1 + obs_cost')\n",
    "product_formulations = (X1_formulation, X2_formulation, X3_formulation)\n",
    "problem = pyblp.Problem(product_formulations, product_data, integration=INTEGRATION, costs_type='log')"
   ]
  },
  {
   "cell_type": "code",
   "execution_count": null,
   "metadata": {},
   "outputs": [],
   "source": [
    "# estimate the model\n",
    "supply_results = problem.solve(\n",
    "    blp_results.sigma,\n",
    "    beta= blp_results.beta,\n",
    "    costs_bounds=(1e-4, None),\n",
    "    sigma_bounds = SIGMA_BOUNDS,\n",
    "    beta_bounds = BETA_BOUNDS \n",
    ")\n",
    "print(supply_results)\n",
    "print(\"Sigma squared: \")\n",
    "print(supply_results.sigma_squared)\n",
    "print(\"Standard errors: \")\n",
    "print(supply_results.sigma_squared_se)"
   ]
  },
  {
   "cell_type": "markdown",
   "metadata": {},
   "source": [
    "### 5 (9)"
   ]
  },
  {
   "cell_type": "code",
   "execution_count": null,
   "metadata": {},
   "outputs": [],
   "source": [
    "# estimated own price elasticity\n",
    "elasticities = supply_results.compute_elasticities(name = 'prices')\n",
    "e_estimated = np.empty(2400,)\n",
    "for i in range(600):\n",
    "    e_estimated[4*i:4*i+4] = np.diag(elasticities[4*i:4*i+4, :]);"
   ]
  },
  {
   "cell_type": "code",
   "execution_count": null,
   "metadata": {},
   "outputs": [],
   "source": [
    "# A table comparing the estimated own-price elasticities to the true own-price elasticities\n",
    "elasticity_table = pd.DataFrame()\n",
    "elasticity_table['true_elasticity'] = product_data['price_elasticity']\n",
    "elasticity_table['estimated_elasticity'] = e_estimated\n",
    "print(\"elasticity_table:\")\n",
    "print(elasticity_table)"
   ]
  },
  {
   "cell_type": "code",
   "execution_count": null,
   "metadata": {},
   "outputs": [],
   "source": [
    "# true diversion\n",
    "diversion_true = pd.DataFrame()\n",
    "diversion_true = product_data[['D1','D2','D3','D4']]\n",
    "print(\"true diversion ratio:\")\n",
    "print(diversion_true)"
   ]
  },
  {
   "cell_type": "code",
   "execution_count": null,
   "metadata": {},
   "outputs": [],
   "source": [
    "# estimated diversion\n",
    "d = supply_results.compute_diversion_ratios(name='prices') \n",
    "diversion_estimated = pd.DataFrame({'D1': d[:,0], 'D2': d[:,1], 'D3': d[:,2], 'D4': d[:,3]})\n",
    "print(\"estimated diversion ratio:\")\n",
    "print(diversion_estimated)"
   ]
  },
  {
   "cell_type": "markdown",
   "metadata": {},
   "source": [
    "### 6(11) simulation of merger between 1 and 2"
   ]
  },
  {
   "cell_type": "code",
   "execution_count": null,
   "metadata": {},
   "outputs": [],
   "source": [
    "# assume unchanged marginal costs\n",
    "costs = supply_results.compute_costs()\n",
    "costs = costs.reshape((2400,))\n",
    "\n",
    "product_data['merger_ids_12'] = product_data['firm_ids'].replace(2, 1)\n",
    "# post-merger equilibrium prices\n",
    "changed_prices_12 = supply_results.compute_prices(\n",
    "    firm_ids=product_data['merger_ids_12'],\n",
    "    costs=costs\n",
    ")\n",
    "changed_prices_12 = changed_prices_12.reshape((2400,))"
   ]
  },
  {
   "cell_type": "markdown",
   "metadata": {},
   "source": [
    "### 6(12) simulation of merger between 1 and 3"
   ]
  },
  {
   "cell_type": "code",
   "execution_count": null,
   "metadata": {},
   "outputs": [],
   "source": [
    "product_data['merger_ids_13'] = product_data['firm_ids'].replace(3, 1)\n",
    "# post-merger equilibrium prices \n",
    "changed_prices_13 = supply_results.compute_prices(\n",
    "    firm_ids=product_data['merger_ids_13'],\n",
    "    costs=costs\n",
    ")\n",
    "changed_prices_13 = changed_prices_13.reshape((2400,))"
   ]
  },
  {
   "cell_type": "code",
   "execution_count": null,
   "metadata": {},
   "outputs": [],
   "source": [
    "# a table comparing average prices after the two mergers\n",
    "merger_price = pd.DataFrame()\n",
    "\n",
    "average_price = []\n",
    "for j in range(4):\n",
    "    price_j = np.mean( [changed_prices_12[4*t+j] for t in range(600)] )\n",
    "    average_price.append(price_j)\n",
    "merger_price['merge 1 and 2'] = average_price\n",
    "\n",
    "average_price = []\n",
    "for j in range(4):\n",
    "    price_j = np.mean( [changed_prices_13[4*t+j] for t in range(600)] )\n",
    "    average_price.append(price_j)\n",
    "merger_price['merge 1 and 3'] = average_price\n",
    "\n",
    "print(merger_price)"
   ]
  },
  {
   "cell_type": "markdown",
   "metadata": {},
   "source": [
    "### 6(14) Merger with cost reduction"
   ]
  },
  {
   "cell_type": "code",
   "execution_count": null,
   "metadata": {},
   "outputs": [],
   "source": [
    "# marginal costs of product 1 and 2 reduced by 15%\n",
    "costs = supply_results.compute_costs()\n",
    "costs_reduced = costs.reshape((600,4))\n",
    "costs_reduced[:,0] = 0.85*costs_reduced[:,0]\n",
    "costs_reduced[:,1] = 0.85*costs_reduced[:,1]\n",
    "costs_reduced = costs_reduced.reshape((2400,1))"
   ]
  },
  {
   "cell_type": "code",
   "execution_count": null,
   "metadata": {},
   "outputs": [],
   "source": [
    "# post-merger equilibrium prices with cost change\n",
    "price_postmerger = supply_results.compute_prices(\n",
    "    firm_ids=product_data['merger_ids_12'],\n",
    "    costs=costs_reduced\n",
    ")\n",
    "price_postmerger = price_postmerger.reshape((2400,)"
   ]
  },
  {
   "cell_type": "code",
   "execution_count": null,
   "metadata": {},
   "outputs": [],
   "source": [
    "# pre-merger consumer surplus\n",
    "cs_pre = supply_results.compute_consumer_surpluses()\n",
    "cs_post = supply_results.compute_consumer_surpluses(price_postmerger)\n",
    "plt.hist(cs_post - cs_pre, bins=50);\n",
    "plt.legend([\"Consumer Surplus Changes\"]);"
   ]
  },
  {
   "cell_type": "code",
   "execution_count": null,
   "metadata": {},
   "outputs": [],
   "source": []
  }
 ],
 "metadata": {
  "kernelspec": {
   "display_name": "Python 3",
   "language": "python",
   "name": "python3"
  },
  "language_info": {
   "codemirror_mode": {
    "name": "ipython",
    "version": 3
   },
   "file_extension": ".py",
   "mimetype": "text/x-python",
   "name": "python",
   "nbconvert_exporter": "python",
   "pygments_lexer": "ipython3",
   "version": "3.8.3"
  }
 },
 "nbformat": 4,
 "nbformat_minor": 4
}
